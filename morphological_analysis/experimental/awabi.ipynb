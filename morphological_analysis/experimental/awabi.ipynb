{
 "cells": [
  {
   "cell_type": "markdown",
   "metadata": {},
   "source": [
    "# 概要\n",
    "\n",
    "Juliaとawabi.jlによる形態素解の実験"
   ]
  },
  {
   "cell_type": "code",
   "execution_count": 18,
   "metadata": {},
   "outputs": [
    {
     "data": {
      "text/plain": [
       "\"file_name_list.json.csv\""
      ]
     },
     "metadata": {},
     "output_type": "display_data"
    }
   ],
   "source": [
    "# ライブラリをインポート\n",
    "using HTTP, JSON, CSV, TableOperations, DataFrames\n",
    "\n",
    "# ニコニコ動画のデータを収集する関数を定義\n",
    "function collect_nico_data(ranking_type, date, file_type, endpoint=\"https://dcdn.cdn.nimg.jp/nicovideo/old-ranking\")\n",
    "    response = HTTP.get(\"$endpoint/$ranking_type/$date/$file_type\")                      # リクエストを送信\n",
    "    response.status != 200 && println(\"APIにアクセスできませんでした。\")                 # エラーメッセージを表示\n",
    "    data = JSON.parse(String(response.body))                                             # レスポンスをJSON形式に変換\n",
    "    CSV.write(\"$(file_type).csv\", data; transform=((col, val)->something(val, missing))) # データをCSVファイルに保存（transformオプションを追加）\n",
    "end\n",
    "\n",
    "# 関数を呼び出してデータを収集する（例）\n",
    "collect_nico_data(\"daily\", \"2023-09-23\", \"file_name_list.json\")"
   ]
  },
  {
   "cell_type": "code",
   "execution_count": 20,
   "metadata": {},
   "outputs": [
    {
     "data": {
      "text/plain": [
       "1-element Vector{String31}:\n",
       " \"game_04.json\""
      ]
     },
     "metadata": {},
     "output_type": "display_data"
    }
   ],
   "source": [
    "function search_tag(tag, file_name)\n",
    "  file_name_list = CSV.read(file_name, DataFrame)\n",
    "  # FIXME: ここでtagが見つからなかった場合の処理を追加する\n",
    "  return file_name_list[coalesce.(file_name_list.tag, \"\") .== \"アーマードコア6\", :].file\n",
    "end\n",
    "ac6_file_name = search_tag(\"アーマードコア6\", \"file_name_list.json.csv\")"
   ]
  },
  {
   "cell_type": "code",
   "execution_count": null,
   "metadata": {},
   "outputs": [],
   "source": []
  },
  {
   "cell_type": "code",
   "execution_count": 5,
   "metadata": {},
   "outputs": [],
   "source": [
    "using DataFrames"
   ]
  },
  {
   "cell_type": "code",
   "execution_count": null,
   "metadata": {},
   "outputs": [],
   "source": []
  },
  {
   "cell_type": "code",
   "execution_count": null,
   "metadata": {},
   "outputs": [],
   "source": []
  },
  {
   "cell_type": "code",
   "execution_count": null,
   "metadata": {},
   "outputs": [],
   "source": []
  },
  {
   "cell_type": "code",
   "execution_count": null,
   "metadata": {},
   "outputs": [],
   "source": []
  },
  {
   "cell_type": "code",
   "execution_count": null,
   "metadata": {},
   "outputs": [],
   "source": []
  }
 ],
 "metadata": {
  "kernelspec": {
   "display_name": "Julia 1.9.3",
   "language": "julia",
   "name": "julia-1.9"
  },
  "language_info": {
   "file_extension": ".jl",
   "mimetype": "application/julia",
   "name": "julia",
   "version": "1.9.3"
  },
  "orig_nbformat": 4
 },
 "nbformat": 4,
 "nbformat_minor": 2
}
