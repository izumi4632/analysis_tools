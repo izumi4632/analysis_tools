{
 "cells": [
  {
   "cell_type": "markdown",
   "metadata": {},
   "source": [
    "# 概要\n",
    "\n",
    "Juliaとawabi.jlによる形態素解の実験"
   ]
  },
  {
   "cell_type": "markdown",
   "metadata": {},
   "source": [
    "## データの取得"
   ]
  },
  {
   "cell_type": "code",
   "execution_count": 25,
   "metadata": {},
   "outputs": [
    {
     "data": {
      "text/plain": [
       "\"daily_2023-09-23_file_name_list.json.csv\""
      ]
     },
     "metadata": {},
     "output_type": "display_data"
    }
   ],
   "source": [
    "using HTTP, JSON, CSV, TableOperations, DataFrames # ライブラリをインポート\n",
    "\n",
    "\"\"\"\n",
    "ニコニコ動画のデータを収集しファイルに保存する関数\n",
    "\n",
    "参考: https://dwango.github.io/niconico/genre_ranking/ranking_log\n",
    "\"\"\"\n",
    "function collect_nico_data(ranking_type, date, file_type, endpoint=\"https://dcdn.cdn.nimg.jp/nicovideo/old-ranking\")\n",
    "    response = HTTP.get(\"$endpoint/$ranking_type/$date/$file_type\")             # リクエストを送信\n",
    "    response.status != 200 && (return error(\"Error: $(response.status)\"))       # レスポンスが200以外の場合はエラーを返す\n",
    "    data      = JSON.parse(String(response.body))                               # レスポンスをJSON形式に変換\n",
    "    file_name = \"$(ranking_type)_$(date)_$(file_type).csv\"\n",
    "    CSV.write(file_name, data; transform=((col, val)->something(val, missing))) # データをCSVファイルに保存（transformオプションを追加）\n",
    "    return file_name\n",
    "end\n",
    "\n",
    "\"\"\"\n",
    "ファイル名リストからタグを検索し、ファイル名を返す関数\n",
    "\"\"\"\n",
    "function search_tag(tag, file_name)\n",
    "    file_name_list = CSV.read(file_name, DataFrame)\n",
    "    # FIXME: ここでtagが見つからなかった場合の処理を追加する\n",
    "    return file_name_list[coalesce.(file_name_list.tag, \"\") .== \"アーマードコア6\", :].file[1]\n",
    "end\n",
    "\n",
    "file_name_list_name = collect_nico_data(\"daily\", \"2023-09-23\", \"file_name_list.json\")\n",
    "ac6_file_name       = search_tag(\"アーマードコア6\", file_name_list_name)\n",
    "ac6_result_file     = collect_nico_data(\"daily\", \"2023-09-23\", ac6_file_name)"
   ]
  },
  {
   "cell_type": "markdown",
   "metadata": {},
   "source": [
    "## 形態素解析の実験\n"
   ]
  },
  {
   "cell_type": "code",
   "execution_count": 16,
   "metadata": {},
   "outputs": [
    {
     "name": "stdout",
     "output_type": "stream",
     "text": [
      "[\n",
      "  (\"すもも\", \"名詞,一般,*,*,*,*,すもも,スモモ,スモモ\"),\n",
      "  (\"も\", \"助詞,係助詞,*,*,*,*,も,モ,モ\"),\n",
      "  (\"もも\", \"名詞,一般,*,*,*,*,もも,モモ,モモ\"),\n",
      "  (\"も\", \"助詞,係助詞,*,*,*,*,も,モ,モ\"),\n",
      "  (\"もも\", \"名詞,一般,*,*,*,*,もも,モモ,モモ\"),\n",
      "  (\"の\", \"助詞,連体化,*,*,*,*,の,ノ,ノ\"),\n",
      "  (\"うち\", \"名詞,非自立,副詞可能,*,*,*,うち,ウチ,ウチ\"),\n",
      "]\n"
     ]
    }
   ],
   "source": [
    "using Awabi, PrettyPrint\n",
    "\n",
    "tokenizer = Tokenizer(Dict(\"dicdir\"=>\"/home/linuxbrew/.linuxbrew/lib/mecab/dic/ipadic\"))\n",
    "text      = \"すもももももももものうち\"\n",
    "tokens    = tokenize(tokenizer, text)\n",
    "pprintln(tokens) # 結果を表示する\n"
   ]
  },
  {
   "cell_type": "code",
   "execution_count": 5,
   "metadata": {},
   "outputs": [],
   "source": []
  },
  {
   "cell_type": "code",
   "execution_count": null,
   "metadata": {},
   "outputs": [],
   "source": []
  },
  {
   "cell_type": "code",
   "execution_count": null,
   "metadata": {},
   "outputs": [],
   "source": []
  },
  {
   "cell_type": "code",
   "execution_count": null,
   "metadata": {},
   "outputs": [],
   "source": []
  },
  {
   "cell_type": "code",
   "execution_count": null,
   "metadata": {},
   "outputs": [],
   "source": []
  },
  {
   "cell_type": "code",
   "execution_count": null,
   "metadata": {},
   "outputs": [],
   "source": []
  }
 ],
 "metadata": {
  "kernelspec": {
   "display_name": "Julia 1.9.3",
   "language": "julia",
   "name": "julia-1.9"
  },
  "language_info": {
   "file_extension": ".jl",
   "mimetype": "application/julia",
   "name": "julia",
   "version": "1.9.3"
  },
  "orig_nbformat": 4
 },
 "nbformat": 4,
 "nbformat_minor": 2
}
