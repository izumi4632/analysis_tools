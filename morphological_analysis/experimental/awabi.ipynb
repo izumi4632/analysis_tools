{
 "cells": [
  {
   "cell_type": "markdown",
   "metadata": {},
   "source": [
    "# 概要\n",
    "\n",
    "Juliaとawabi.jlによる形態素解の実験"
   ]
  },
  {
   "cell_type": "code",
   "execution_count": 1,
   "metadata": {},
   "outputs": [
    {
     "ename": "HTTP.Exceptions.ConnectError",
     "evalue": "HTTP.ConnectError for url = `https://dcdn.cdn.nimg.jp/nicovideo/old-ranking/daily/2023-09-23/file_name_list.json`: DNSError: dcdn.cdn.nimg.jp, unknown node or service (EAI_NONAME)\nStacktrace:\n [1] getalladdrinfo(host::String)\n   @ Sockets ~/.julia/juliaup/julia-1.9.3+0.x64.linux.gnu/share/julia/stdlib/v1.9/Sockets/src/addrinfo.jl:113\n [2] getalladdrinfo\n   @ ~/.julia/juliaup/julia-1.9.3+0.x64.linux.gnu/share/julia/stdlib/v1.9/Sockets/src/addrinfo.jl:122 [inlined]\n [3] getconnection(::Type{Sockets.TCPSocket}, host::SubString{String}, port::String; keepalive::Bool, readtimeout::Int64, kw::Base.Pairs{Symbol, Union{Nothing, Integer}, NTuple{4, Symbol}, NamedTuple{(:require_ssl_verification, :iofunction, :decompress, :verbose), Tuple{Bool, Nothing, Nothing, Int64}}})\n   @ HTTP.Connections ~/.julia/packages/HTTP/SN7VW/src/Connections.jl:515\n [4] getconnection\n   @ ~/.julia/packages/HTTP/SN7VW/src/Connections.jl:503 [inlined]\n [5] getconnection(::Type{OpenSSL.SSLStream}, host::SubString{String}, port::SubString{String}; kw::Base.Pairs{Symbol, Union{Nothing, Integer}, NTuple{6, Symbol}, NamedTuple{(:require_ssl_verification, :keepalive, :readtimeout, :iofunction, :decompress, :verbose), Tuple{Bool, Bool, Int64, Nothing, Nothing, Int64}}})\n   @ HTTP.Connections ~/.julia/packages/HTTP/SN7VW/src/Connections.jl:580\n [6] getconnection\n   @ ~/.julia/packages/HTTP/SN7VW/src/Connections.jl:573 [inlined]\n [7] #10\n   @ ~/.julia/packages/HTTP/SN7VW/src/Connections.jl:462 [inlined]\n [8] macro expansion\n   @ ~/.julia/packages/ConcurrentUtilities/9VvmK/src/try_with_timeout.jl:82 [inlined]\n [9] (::ConcurrentUtilities.var\"#2#4\"{Any, Timer, ConcurrentUtilities.TimedOut{Any}, Channel{Any}, HTTP.Connections.var\"#10#13\"{OpenSSL.SSLStream, Bool, Bool, Base.Pairs{Symbol, Union{Nothing, Int64}, NTuple{4, Symbol}, NamedTuple{(:readtimeout, :iofunction, :decompress, :verbose), Tuple{Int64, Nothing, Nothing, Int64}}}, SubString{String}, SubString{String}}})()\n   @ ConcurrentUtilities ./threadingconstructs.jl:410",
     "output_type": "error",
     "traceback": [
      "HTTP.ConnectError for url = `https://dcdn.cdn.nimg.jp/nicovideo/old-ranking/daily/2023-09-23/file_name_list.json`: DNSError: dcdn.cdn.nimg.jp, unknown node or service (EAI_NONAME)\n",
      "Stacktrace:\n",
      " [1] getalladdrinfo(host::String)\n",
      "   @ Sockets ~/.julia/juliaup/julia-1.9.3+0.x64.linux.gnu/share/julia/stdlib/v1.9/Sockets/src/addrinfo.jl:113\n",
      " [2] getalladdrinfo\n",
      "   @ ~/.julia/juliaup/julia-1.9.3+0.x64.linux.gnu/share/julia/stdlib/v1.9/Sockets/src/addrinfo.jl:122 [inlined]\n",
      " [3] getconnection(::Type{Sockets.TCPSocket}, host::SubString{String}, port::String; keepalive::Bool, readtimeout::Int64, kw::Base.Pairs{Symbol, Union{Nothing, Integer}, NTuple{4, Symbol}, NamedTuple{(:require_ssl_verification, :iofunction, :decompress, :verbose), Tuple{Bool, Nothing, Nothing, Int64}}})\n",
      "   @ HTTP.Connections ~/.julia/packages/HTTP/SN7VW/src/Connections.jl:515\n",
      " [4] getconnection\n",
      "   @ ~/.julia/packages/HTTP/SN7VW/src/Connections.jl:503 [inlined]\n",
      " [5] getconnection(::Type{OpenSSL.SSLStream}, host::SubString{String}, port::SubString{String}; kw::Base.Pairs{Symbol, Union{Nothing, Integer}, NTuple{6, Symbol}, NamedTuple{(:require_ssl_verification, :keepalive, :readtimeout, :iofunction, :decompress, :verbose), Tuple{Bool, Bool, Int64, Nothing, Nothing, Int64}}})\n",
      "   @ HTTP.Connections ~/.julia/packages/HTTP/SN7VW/src/Connections.jl:580\n",
      " [6] getconnection\n",
      "   @ ~/.julia/packages/HTTP/SN7VW/src/Connections.jl:573 [inlined]\n",
      " [7] #10\n",
      "   @ ~/.julia/packages/HTTP/SN7VW/src/Connections.jl:462 [inlined]\n",
      " [8] macro expansion\n",
      "   @ ~/.julia/packages/ConcurrentUtilities/9VvmK/src/try_with_timeout.jl:82 [inlined]\n",
      " [9] (::ConcurrentUtilities.var\"#2#4\"{Any, Timer, ConcurrentUtilities.TimedOut{Any}, Channel{Any}, HTTP.Connections.var\"#10#13\"{OpenSSL.SSLStream, Bool, Bool, Base.Pairs{Symbol, Union{Nothing, Int64}, NTuple{4, Symbol}, NamedTuple{(:readtimeout, :iofunction, :decompress, :verbose), Tuple{Int64, Nothing, Nothing, Int64}}}, SubString{String}, SubString{String}}})()\n",
      "   @ ConcurrentUtilities ./threadingconstructs.jl:410\n",
      "\n",
      "Stacktrace:\n",
      "  [1] (::HTTP.ConnectionRequest.var\"#connections#4\"{HTTP.ConnectionRequest.var\"#connections#1#5\"{HTTP.TimeoutRequest.var\"#timeouts#3\"{HTTP.TimeoutRequest.var\"#timeouts#1#4\"{HTTP.ExceptionRequest.var\"#exceptions#2\"{HTTP.ExceptionRequest.var\"#exceptions#1#3\"{typeof(HTTP.StreamRequest.streamlayer)}}}}}})(req::HTTP.Messages.Request; proxy::Nothing, socket_type::Type, socket_type_tls::Type, readtimeout::Int64, connect_timeout::Int64, logerrors::Bool, logtag::Nothing, kw::Base.Pairs{Symbol, Union{Nothing, Int64}, Tuple{Symbol, Symbol, Symbol}, NamedTuple{(:iofunction, :decompress, :verbose), Tuple{Nothing, Nothing, Int64}}})\n",
      "    @ HTTP.ConnectionRequest ~/.julia/packages/HTTP/SN7VW/src/clientlayers/ConnectionRequest.jl:87\n",
      "  [2] (::Base.var\"#90#92\"{Base.var\"#90#91#93\"{ExponentialBackOff, HTTP.RetryRequest.var\"#2#5\"{Int64, typeof(HTTP.RetryRequest.FALSE), HTTP.Messages.Request, Base.RefValue{Int64}}, HTTP.ConnectionRequest.var\"#connections#4\"{HTTP.ConnectionRequest.var\"#connections#1#5\"{HTTP.TimeoutRequest.var\"#timeouts#3\"{HTTP.TimeoutRequest.var\"#timeouts#1#4\"{HTTP.ExceptionRequest.var\"#exceptions#2\"{HTTP.ExceptionRequest.var\"#exceptions#1#3\"{typeof(HTTP.StreamRequest.streamlayer)}}}}}}}})(args::HTTP.Messages.Request; kwargs::Base.Pairs{Symbol, Union{Nothing, Int64}, Tuple{Symbol, Symbol, Symbol}, NamedTuple{(:iofunction, :decompress, :verbose), Tuple{Nothing, Nothing, Int64}}})\n",
      "    @ Base ./error.jl:296\n",
      "  [3] (::HTTP.RetryRequest.var\"#manageretries#3\"{HTTP.RetryRequest.var\"#manageretries#1#4\"{HTTP.ConnectionRequest.var\"#connections#4\"{HTTP.ConnectionRequest.var\"#connections#1#5\"{HTTP.TimeoutRequest.var\"#timeouts#3\"{HTTP.TimeoutRequest.var\"#timeouts#1#4\"{HTTP.ExceptionRequest.var\"#exceptions#2\"{HTTP.ExceptionRequest.var\"#exceptions#1#3\"{typeof(HTTP.StreamRequest.streamlayer)}}}}}}}})(req::HTTP.Messages.Request; retry::Bool, retries::Int64, retry_delays::ExponentialBackOff, retry_check::Function, retry_non_idempotent::Bool, kw::Base.Pairs{Symbol, Union{Nothing, Int64}, Tuple{Symbol, Symbol, Symbol}, NamedTuple{(:iofunction, :decompress, :verbose), Tuple{Nothing, Nothing, Int64}}})\n",
      "    @ HTTP.RetryRequest ~/.julia/packages/HTTP/SN7VW/src/clientlayers/RetryRequest.jl:75\n",
      "  [4] manageretries\n",
      "    @ ~/.julia/packages/HTTP/SN7VW/src/clientlayers/RetryRequest.jl:30 [inlined]\n",
      "  [5] (::HTTP.CookieRequest.var\"#managecookies#4\"{HTTP.CookieRequest.var\"#managecookies#1#5\"{HTTP.RetryRequest.var\"#manageretries#3\"{HTTP.RetryRequest.var\"#manageretries#1#4\"{HTTP.ConnectionRequest.var\"#connections#4\"{HTTP.ConnectionRequest.var\"#connections#1#5\"{HTTP.TimeoutRequest.var\"#timeouts#3\"{HTTP.TimeoutRequest.var\"#timeouts#1#4\"{HTTP.ExceptionRequest.var\"#exceptions#2\"{HTTP.ExceptionRequest.var\"#exceptions#1#3\"{typeof(HTTP.StreamRequest.streamlayer)}}}}}}}}}})(req::HTTP.Messages.Request; cookies::Bool, cookiejar::HTTP.Cookies.CookieJar, kw::Base.Pairs{Symbol, Union{Nothing, Int64}, Tuple{Symbol, Symbol, Symbol}, NamedTuple{(:iofunction, :decompress, :verbose), Tuple{Nothing, Nothing, Int64}}})\n",
      "    @ HTTP.CookieRequest ~/.julia/packages/HTTP/SN7VW/src/clientlayers/CookieRequest.jl:42\n",
      "  [6] managecookies\n",
      "    @ ~/.julia/packages/HTTP/SN7VW/src/clientlayers/CookieRequest.jl:19 [inlined]\n",
      "  [7] (::HTTP.HeadersRequest.var\"#defaultheaders#2\"{HTTP.HeadersRequest.var\"#defaultheaders#1#3\"{HTTP.CookieRequest.var\"#managecookies#4\"{HTTP.CookieRequest.var\"#managecookies#1#5\"{HTTP.RetryRequest.var\"#manageretries#3\"{HTTP.RetryRequest.var\"#manageretries#1#4\"{HTTP.ConnectionRequest.var\"#connections#4\"{HTTP.ConnectionRequest.var\"#connections#1#5\"{HTTP.TimeoutRequest.var\"#timeouts#3\"{HTTP.TimeoutRequest.var\"#timeouts#1#4\"{HTTP.ExceptionRequest.var\"#exceptions#2\"{HTTP.ExceptionRequest.var\"#exceptions#1#3\"{typeof(HTTP.StreamRequest.streamlayer)}}}}}}}}}}}})(req::HTTP.Messages.Request; iofunction::Nothing, decompress::Nothing, basicauth::Bool, detect_content_type::Bool, canonicalize_headers::Bool, kw::Base.Pairs{Symbol, Int64, Tuple{Symbol}, NamedTuple{(:verbose,), Tuple{Int64}}})\n",
      "    @ HTTP.HeadersRequest ~/.julia/packages/HTTP/SN7VW/src/clientlayers/HeadersRequest.jl:71\n",
      "  [8] defaultheaders\n",
      "    @ ~/.julia/packages/HTTP/SN7VW/src/clientlayers/HeadersRequest.jl:14 [inlined]\n",
      "  [9] (::HTTP.RedirectRequest.var\"#redirects#3\"{HTTP.RedirectRequest.var\"#redirects#1#4\"{HTTP.HeadersRequest.var\"#defaultheaders#2\"{HTTP.HeadersRequest.var\"#defaultheaders#1#3\"{HTTP.CookieRequest.var\"#managecookies#4\"{HTTP.CookieRequest.var\"#managecookies#1#5\"{HTTP.RetryRequest.var\"#manageretries#3\"{HTTP.RetryRequest.var\"#manageretries#1#4\"{HTTP.ConnectionRequest.var\"#connections#4\"{HTTP.ConnectionRequest.var\"#connections#1#5\"{HTTP.TimeoutRequest.var\"#timeouts#3\"{HTTP.TimeoutRequest.var\"#timeouts#1#4\"{HTTP.ExceptionRequest.var\"#exceptions#2\"{HTTP.ExceptionRequest.var\"#exceptions#1#3\"{typeof(HTTP.StreamRequest.streamlayer)}}}}}}}}}}}}}})(req::HTTP.Messages.Request; redirect::Bool, redirect_limit::Int64, redirect_method::Nothing, forwardheaders::Bool, response_stream::Nothing, kw::Base.Pairs{Symbol, Int64, Tuple{Symbol}, NamedTuple{(:verbose,), Tuple{Int64}}})\n",
      "    @ HTTP.RedirectRequest ~/.julia/packages/HTTP/SN7VW/src/clientlayers/RedirectRequest.jl:25\n",
      " [10] redirects\n",
      "    @ ~/.julia/packages/HTTP/SN7VW/src/clientlayers/RedirectRequest.jl:14 [inlined]\n",
      " [11] (::HTTP.MessageRequest.var\"#makerequest#3\"{HTTP.MessageRequest.var\"#makerequest#1#4\"{HTTP.RedirectRequest.var\"#redirects#3\"{HTTP.RedirectRequest.var\"#redirects#1#4\"{HTTP.HeadersRequest.var\"#defaultheaders#2\"{HTTP.HeadersRequest.var\"#defaultheaders#1#3\"{HTTP.CookieRequest.var\"#managecookies#4\"{HTTP.CookieRequest.var\"#managecookies#1#5\"{HTTP.RetryRequest.var\"#manageretries#3\"{HTTP.RetryRequest.var\"#manageretries#1#4\"{HTTP.ConnectionRequest.var\"#connections#4\"{HTTP.ConnectionRequest.var\"#connections#1#5\"{HTTP.TimeoutRequest.var\"#timeouts#3\"{HTTP.TimeoutRequest.var\"#timeouts#1#4\"{HTTP.ExceptionRequest.var\"#exceptions#2\"{HTTP.ExceptionRequest.var\"#exceptions#1#3\"{typeof(HTTP.StreamRequest.streamlayer)}}}}}}}}}}}}}}}})(method::String, url::URIs.URI, headers::Nothing, body::Vector{UInt8}; copyheaders::Bool, response_stream::Nothing, http_version::HTTP.Strings.HTTPVersion, verbose::Int64, kw::Base.Pairs{Symbol, Union{}, Tuple{}, NamedTuple{(), Tuple{}}})\n",
      "    @ HTTP.MessageRequest ~/.julia/packages/HTTP/SN7VW/src/clientlayers/MessageRequest.jl:35\n",
      " [12] makerequest\n",
      "    @ ~/.julia/packages/HTTP/SN7VW/src/clientlayers/MessageRequest.jl:24 [inlined]\n",
      " [13] request(stack::HTTP.MessageRequest.var\"#makerequest#3\"{HTTP.MessageRequest.var\"#makerequest#1#4\"{HTTP.RedirectRequest.var\"#redirects#3\"{HTTP.RedirectRequest.var\"#redirects#1#4\"{HTTP.HeadersRequest.var\"#defaultheaders#2\"{HTTP.HeadersRequest.var\"#defaultheaders#1#3\"{HTTP.CookieRequest.var\"#managecookies#4\"{HTTP.CookieRequest.var\"#managecookies#1#5\"{HTTP.RetryRequest.var\"#manageretries#3\"{HTTP.RetryRequest.var\"#manageretries#1#4\"{HTTP.ConnectionRequest.var\"#connections#4\"{HTTP.ConnectionRequest.var\"#connections#1#5\"{HTTP.TimeoutRequest.var\"#timeouts#3\"{HTTP.TimeoutRequest.var\"#timeouts#1#4\"{HTTP.ExceptionRequest.var\"#exceptions#2\"{HTTP.ExceptionRequest.var\"#exceptions#1#3\"{typeof(HTTP.StreamRequest.streamlayer)}}}}}}}}}}}}}}}}, method::String, url::String, h::Nothing, b::Vector{UInt8}, q::Nothing; headers::Nothing, body::Vector{UInt8}, query::Nothing, kw::Base.Pairs{Symbol, Union{}, Tuple{}, NamedTuple{(), Tuple{}}})\n",
      "    @ HTTP ~/.julia/packages/HTTP/SN7VW/src/HTTP.jl:457\n",
      " [14] request(stack::Function, method::String, url::String, h::Nothing, b::Vector{UInt8}, q::Nothing)\n",
      "    @ HTTP ~/.julia/packages/HTTP/SN7VW/src/HTTP.jl:455\n",
      " [15] #request#20\n",
      "    @ ~/.julia/packages/HTTP/SN7VW/src/HTTP.jl:315 [inlined]\n",
      " [16] request (repeats 2 times)\n",
      "    @ ~/.julia/packages/HTTP/SN7VW/src/HTTP.jl:313 [inlined]\n",
      " [17] #get#38\n",
      "    @ ~/.julia/packages/HTTP/SN7VW/src/HTTP.jl:518 [inlined]\n",
      " [18] get\n",
      "    @ ~/.julia/packages/HTTP/SN7VW/src/HTTP.jl:518 [inlined]\n",
      " [19] collect_nico_data(ranking_type::String, date::String, file_type::String, endpoint::String)\n",
      "    @ Main ~/git/analysis_tools/morphological_analysis/experimental/awabi.ipynb:6\n",
      " [20] collect_nico_data(ranking_type::String, date::String, file_type::String)\n",
      "    @ Main ~/git/analysis_tools/morphological_analysis/experimental/awabi.ipynb:6\n",
      " [21] top-level scope\n",
      "    @ ~/git/analysis_tools/morphological_analysis/experimental/awabi.ipynb:13"
     ]
    }
   ],
   "source": [
    "# ライブラリをインポート\n",
    "using HTTP, JSON, CSV, TableOperations\n",
    "\n",
    "# ニコニコ動画のデータを収集する関数を定義\n",
    "function collect_nico_data(ranking_type, date, file_type, endpoint=\"https://dcdn.cdn.nimg.jp/nicovideo/old-ranking\")\n",
    "    response = HTTP.get(\"$endpoint/$ranking_type/$date/$file_type\")                      # リクエストを送信\n",
    "    response.status != 200 && println(\"APIにアクセスできませんでした。\")                 # エラーメッセージを表示\n",
    "    data = JSON.parse(String(response.body))                                             # レスポンスをJSON形式に変換\n",
    "    CSV.write(\"$(file_type).csv\", data; transform=((col, val)->something(val, missing))) # データをCSVファイルに保存（transformオプションを追加）\n",
    "end\n",
    "\n",
    "# 関数を呼び出してデータを収集する（例）\n",
    "collect_nico_data(\"daily\", \"2023-09-23\", \"file_name_list.json\")"
   ]
  },
  {
   "cell_type": "code",
   "execution_count": null,
   "metadata": {},
   "outputs": [],
   "source": []
  },
  {
   "cell_type": "code",
   "execution_count": null,
   "metadata": {},
   "outputs": [],
   "source": []
  },
  {
   "cell_type": "code",
   "execution_count": null,
   "metadata": {},
   "outputs": [],
   "source": []
  },
  {
   "cell_type": "code",
   "execution_count": null,
   "metadata": {},
   "outputs": [],
   "source": []
  },
  {
   "cell_type": "code",
   "execution_count": null,
   "metadata": {},
   "outputs": [],
   "source": []
  },
  {
   "cell_type": "code",
   "execution_count": null,
   "metadata": {},
   "outputs": [],
   "source": []
  },
  {
   "cell_type": "code",
   "execution_count": null,
   "metadata": {},
   "outputs": [],
   "source": []
  },
  {
   "cell_type": "code",
   "execution_count": null,
   "metadata": {},
   "outputs": [],
   "source": []
  }
 ],
 "metadata": {
  "kernelspec": {
   "display_name": "Julia 1.9.3",
   "language": "julia",
   "name": "julia-1.9"
  },
  "language_info": {
   "file_extension": ".jl",
   "mimetype": "application/julia",
   "name": "julia",
   "version": "1.9.3"
  },
  "orig_nbformat": 4
 },
 "nbformat": 4,
 "nbformat_minor": 2
}
