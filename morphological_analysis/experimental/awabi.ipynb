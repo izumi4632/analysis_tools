{
 "cells": [
  {
   "cell_type": "markdown",
   "metadata": {},
   "source": [
    "# 概要\n",
    "\n",
    "Juliaとawabi.jlによる形態素解の実験"
   ]
  },
  {
   "cell_type": "markdown",
   "metadata": {},
   "source": [
    "## 形態素解析の実験\n"
   ]
  },
  {
   "cell_type": "code",
   "execution_count": 1,
   "metadata": {},
   "outputs": [
    {
     "name": "stdout",
     "output_type": "stream",
     "text": [
      "[\n",
      "  (\"すもも\", \"名詞,一般,*,*,*,*,すもも,スモモ,スモモ\"),\n",
      "  (\"も\", \"助詞,係助詞,*,*,*,*,も,モ,モ\"),\n",
      "  (\"もも\", \"名詞,一般,*,*,*,*,もも,モモ,モモ\"),\n",
      "  (\"も\", \"助詞,係助詞,*,*,*,*,も,モ,モ\"),\n",
      "  (\"もも\", \"名詞,一般,*,*,*,*,もも,モモ,モモ\"),\n",
      "  (\"の\", \"助詞,連体化,*,*,*,*,の,ノ,ノ\"),\n",
      "  (\"うち\", \"名詞,非自立,副詞可能,*,*,*,うち,ウチ,ウチ\"),\n",
      "]\n"
     ]
    }
   ],
   "source": [
    "using Awabi, PrettyPrint\n",
    "\n",
    "text      = \"すもももももももものうち\"\n",
    "tokenizer = Tokenizer(Dict(\"dicdir\"=>\"/home/linuxbrew/.linuxbrew/lib/mecab/dic/ipadic\"))\n",
    "tokens    = tokenize(tokenizer, text)\n",
    "\n",
    "pprintln(tokens)\n"
   ]
  }
 ],
 "metadata": {
  "kernelspec": {
   "display_name": "Julia 1.9.3",
   "language": "julia",
   "name": "julia-1.9"
  },
  "language_info": {
   "file_extension": ".jl",
   "mimetype": "application/julia",
   "name": "julia",
   "version": "1.9.3"
  },
  "orig_nbformat": 4
 },
 "nbformat": 4,
 "nbformat_minor": 2
}
