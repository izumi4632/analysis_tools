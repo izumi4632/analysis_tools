{
 "cells": [
  {
   "cell_type": "markdown",
   "metadata": {},
   "source": [
    "# 概要\n",
    "\n",
    "Juliaとawabi.jlによる形態素解の実験"
   ]
  },
  {
   "cell_type": "markdown",
   "metadata": {},
   "source": [
    "## データの取得"
   ]
  },
  {
   "cell_type": "code",
   "execution_count": 37,
   "metadata": {},
   "outputs": [
    {
     "name": "stdout",
     "output_type": "stream",
     "text": [
      "file_data_list = JSON.parsefile(file_name) = Any[Dict{String, Any}(\"genre\" => \"全ジャンル\", \"tag\" => nothing, \"file\" => \"all.json\"), Dict{String, Any}(\"genre\" => \"エンターテイメント\", \"tag\" => nothing, \"file\" => \"entertainment.json\"), Dict{String, Any}(\"genre\" => \"ラジオ\", \"tag\" => nothing, \"file\" => \"radio.json\"), Dict{String, Any}(\"genre\" => \"音楽・サウンド\", \"tag\" => nothing, \"file\" => \"music_sound.json\"), Dict{String, Any}(\"genre\" => \"ダンス\", \"tag\" => nothing, \"file\" => \"dance.json\"), Dict{String, Any}(\"genre\" => \"動物\", \"tag\" => nothing, \"file\" => \"animal.json\"), Dict{String, Any}(\"genre\" => \"自然\", \"tag\" => nothing, \"file\" => \"nature.json\"), Dict{String, Any}(\"genre\" => \"料理\", \"tag\" => nothing, \"file\" => \"cooking.json\"), Dict{String, Any}(\"genre\" => \"旅行・アウトドア\", \"tag\" => nothing, \"file\" => \"traveling_outdoor.json\"), Dict{String, Any}(\"genre\" => \"乗り物\", \"tag\" => nothing, \"file\" => \"vehicle.json\"), Dict{String, Any}(\"genre\" => \"スポーツ\", \"tag\" => nothing, \"file\" => \"sports.json\"), Dict{String, Any}(\"genre\" => \"社会・政治・時事\", \"tag\" => nothing, \"file\" => \"society_politics_news.json\"), Dict{String, Any}(\"genre\" => \"技術・工作\", \"tag\" => nothing, \"file\" => \"technology_craft.json\"), Dict{String, Any}(\"genre\" => \"解説・講座\", \"tag\" => nothing, \"file\" => \"commentary_lecture.json\"), Dict{String, Any}(\"genre\" => \"アニメ\", \"tag\" => nothing, \"file\" => \"anime.json\"), Dict{String, Any}(\"genre\" => \"ゲーム\", \"tag\" => nothing, \"file\" => \"game.json\"), Dict{String, Any}(\"genre\" => \"その他\", \"tag\" => nothing, \"file\" => \"other.json\"), Dict{String, Any}(\"genre\" => \"R-18\", \"tag\" => nothing, \"file\" => \"r18.json\"), Dict{String, Any}(\"genre\" => \"エンターテイメント\", \"tag\" => \"にじさんじ\", \"file\" => \"entertainment_01.json\"), Dict{String, Any}(\"genre\" => \"エンターテイメント\", \"tag\" => \"ホロライブ\", \"file\" => \"entertainment_02.json\"), Dict{String, Any}(\"genre\" => \"エンターテイメント\", \"tag\" => \"VOICEROID劇場\", \"file\" => \"entertainment_03.json\"), Dict{String, Any}(\"genre\" => \"エンターテイメント\", \"tag\" => \"ソフトウェアトーク劇場\", \"file\" => \"entertainment_04.json\"), Dict{String, Any}(\"genre\" => \"エンターテイメント\", \"tag\" => \"MMD刀剣乱舞\", \"file\" => \"entertainment_05.json\"), Dict{String, Any}(\"genre\" => \"エンターテイメント\", \"tag\" => \"音MAD\", \"file\" => \"entertainment_06.json\"), Dict{String, Any}(\"genre\" => \"エンターテイメント\", \"tag\" => \"ずんだもん\", \"file\" => \"entertainment_07.json\"), Dict{String, Any}(\"genre\" => \"エンターテイメント\", \"tag\" => \"MMDツイステ\", \"file\" => \"entertainment_08.json\"), Dict{String, Any}(\"genre\" => \"エンターテイメント\", \"tag\" => \".LIVE\", \"file\" => \"entertainment_09.json\"), Dict{String, Any}(\"genre\" => \"エンターテイメント\", \"tag\" => \"WhiteCUL\", \"file\" => \"entertainment_10.json\"), Dict{String, Any}(\"genre\" => \"エンターテイメント\", \"tag\" => \"金カムMMD\", \"file\" => \"entertainment_11.json\"), Dict{String, Any}(\"genre\" => \"エンターテイメント\", \"tag\" => \"バーチャル\", \"file\" => \"entertainment_12.json\"), Dict{String, Any}(\"genre\" => \"エンターテイメント\", \"tag\" => \"MMD\", \"file\" => \"entertainment_13.json\"), Dict{String, Any}(\"genre\" => \"エンターテイメント\", \"tag\" => \"エンターテイメント\", \"file\" => \"entertainment_14.json\"), Dict{String, Any}(\"genre\" => \"エンターテイメント\", \"tag\" => \"描いてみた\", \"file\" => \"entertainment_15.json\"), Dict{String, Any}(\"genre\" => \"ラジオ\", \"tag\" => \"洲崎西\", \"file\" => \"radio_01.json\"), Dict{String, Any}(\"genre\" => \"ラジオ\", \"tag\" => \"ラジオ\", \"file\" => \"radio_02.json\"), Dict{String, Any}(\"genre\" => \"ラジオ\", \"tag\" => \"ナポリの男たち\", \"file\" => \"radio_03.json\"), Dict{String, Any}(\"genre\" => \"ラジオ\", \"tag\" => \"コーナーまとめ\", \"file\" => \"radio_04.json\"), Dict{String, Any}(\"genre\" => \"ラジオ\", \"tag\" => \"宇多丸\", \"file\" => \"radio_05.json\"), Dict{String, Any}(\"genre\" => \"ラジオ\", \"tag\" => \"鷲崎健\", \"file\" => \"radio_06.json\"), Dict{String, Any}(\"genre\" => \"ラジオ\", \"tag\" => \"ボイロラジオ\", \"file\" => \"radio_07.json\"), Dict{String, Any}(\"genre\" => \"ラジオ\", \"tag\" => \"神谷浩史\", \"file\" => \"radio_08.json\"), Dict{String, Any}(\"genre\" => \"ラジオ\", \"tag\" => \"声優\", \"file\" => \"radio_09.json\"), Dict{String, Any}(\"genre\" => \"ラジオ\", \"tag\" => \"小野坂昌也\", \"file\" => \"radio_10.json\"), Dict{String, Any}(\"genre\" => \"ラジオ\", \"tag\" => \"青木佑磨\", \"file\" => \"radio_11.json\"), Dict{String, Any}(\"genre\" => \"ラジオ\", \"tag\" => \"松岡禎丞\", \"file\" => \"radio_12.json\"), Dict{String, Any}(\"genre\" => \"ラジオ\", \"tag\" => \"麻倉もも\", \"file\" => \"radio_13.json\"), Dict{String, Any}(\"genre\" => \"ラジオ\", \"tag\" => \"古川慎\", \"file\" => \"radio_14.json\"), Dict{String, Any}(\"genre\" => \"ラジオ\", \"tag\" => \"杉田智和\", \"file\" => \"radio_15.json\"), Dict{String, Any}(\"genre\" => \"音楽・サウンド\", \"tag\" => \"VOCALOID\", \"file\" => \"music_sound_01.json\"), Dict{String, Any}(\"genre\" => \"音楽・サウンド\", \"tag\" => \"ボカコレ2023夏ルーキー参加曲\", \"file\" => \"music_sound_02.json\"), Dict{String, Any}(\"genre\" => \"音楽・サウンド\", \"tag\" => \"初音ミク\", \"file\" => \"music_sound_03.json\"), Dict{String, Any}(\"genre\" => \"音楽・サウンド\", \"tag\" => \"歌ってみた\", \"file\" => \"music_sound_04.json\"), Dict{String, Any}(\"genre\" => \"音楽・サウンド\", \"tag\" => \"ボカコレ2023夏TOP100ランキング参加曲\", \"file\" => \"music_sound_05.json\"), Dict{String, Any}(\"genre\" => \"音楽・サウンド\", \"tag\" => \"強風オールバック\", \"file\" => \"music_sound_06.json\"), Dict{String, Any}(\"genre\" => \"音楽・サウンド\", \"tag\" => \"歌コレ2023秋ルーキー\", \"file\" => \"music_sound_07.json\"), Dict{String, Any}(\"genre\" => \"音楽・サウンド\", \"tag\" => \"アニソン_ゲーソンカバー祭2023\", \"file\" => \"music_sound_08.json\"), Dict{String, Any}(\"genre\" => \"音楽・サウンド\", \"tag\" => \"ボイパロイド\", \"file\" => \"music_sound_09.json\"), Dict{String, Any}(\"genre\" => \"音楽・サウンド\", \"tag\" => \"歌うボイスロイド\", \"file\" => \"music_sound_10.json\"), Dict{String, Any}(\"genre\" => \"音楽・サウンド\", \"tag\" => \"ずんだもん\", \"file\" => \"music_sound_11.json\"), Dict{String, Any}(\"genre\" => \"音楽・サウンド\", \"tag\" => \"ASMR\", \"file\" => \"music_sound_12.json\"), Dict{String, Any}(\"genre\" => \"音楽・サウンド\", \"tag\" => \"音楽\", \"file\" => \"music_sound_13.json\"), Dict{String, Any}(\"genre\" => \"音楽・サウンド\", \"tag\" => \"演奏してみた\", \"file\" => \"music_sound_14.json\"), Dict{String, Any}(\"genre\" => \"音楽・サウンド\", \"tag\" => \"ニコニコインディーズ\", \"file\" => \"music_sound_15.json\"), Dict{String, Any}(\"genre\" => \"ダンス\", \"tag\" => \"踊ってみた\", \"file\" => \"dance_01.json\"), Dict{String, Any}(\"genre\" => \"ダンス\", \"tag\" => \"MMD艦これ\", \"file\" => \"dance_02.json\"), Dict{String, Any}(\"genre\" => \"ダンス\", \"tag\" => \"MMD\", \"file\" => \"dance_03.json\"), Dict{String, Any}(\"genre\" => \"ダンス\", \"tag\" => \"MMD刀剣乱舞\", \"file\" => \"dance_04.json\"), Dict{String, Any}(\"genre\" => \"ダンス\", \"tag\" => \"R.A.B\", \"file\" => \"dance_05.json\"), Dict{String, Any}(\"genre\" => \"ダンス\", \"tag\" => \"オリジナル振付\", \"file\" => \"dance_06.json\"), Dict{String, Any}(\"genre\" => \"ダンス\", \"tag\" => \"コスプレで踊ってみた\", \"file\" => \"dance_07.json\"), Dict{String, Any}(\"genre\" => \"ダンス\", \"tag\" => \"刀剣乱舞踊ってみた\", \"file\" => \"dance_08.json\"), Dict{String, Any}(\"genre\" => \"ダンス\", \"tag\" => \"ツイステ踊ってみた\", \"file\" => \"dance_09.json\"), Dict{String, Any}(\"genre\" => \"ダンス\", \"tag\" => \"東方MMD\", \"file\" => \"dance_10.json\"), Dict{String, Any}(\"genre\" => \"ダンス\", \"tag\" => \"七河みこ\", \"file\" => \"dance_11.json\"), Dict{String, Any}(\"genre\" => \"ダンス\", \"tag\" => \"足太ぺんた\", \"file\" => \"dance_12.json\"), Dict{String, Any}(\"genre\" => \"ダンス\", \"tag\" => \"ぽるし\", \"file\" => \"dance_13.json\"), Dict{String, Any}(\"genre\" => \"ダンス\", \"tag\" => \"涼宮あつき\", \"file\" => \"dance_14.json\"), Dict{String, Any}(\"genre\" => \"ダンス\", \"tag\" => \"音MAD\", \"file\" => \"dance_15.json\"), Dict{String, Any}(\"genre\" => \"動物\", \"tag\" => \"インコ\", \"file\" => \"animal_01.json\"), Dict{String, Any}(\"genre\" => \"動物\", \"tag\" => \"ぬこぬこ動画\", \"file\" => \"animal_02.json\"), Dict{String, Any}(\"genre\" => \"動物\", \"tag\" => \"馬\", \"file\" => \"animal_03.json\"), Dict{String, Any}(\"genre\" => \"動物\", \"tag\" => \"猫\", \"file\" => \"animal_04.json\"), Dict{String, Any}(\"genre\" => \"動物\", \"tag\" => \"ホモと見るシリーズ\", \"file\" => \"animal_05.json\"), Dict{String, Any}(\"genre\" => \"動物\", \"tag\" => \"動物\", \"file\" => \"animal_06.json\"), Dict{String, Any}(\"genre\" => \"動物\", \"tag\" => \"ゆっくり解説\", \"file\" => \"animal_07.json\"), Dict{String, Any}(\"genre\" => \"動物\", \"tag\" => \"ウマ娘プリティーダービー\", \"file\" => \"animal_08.json\"), Dict{String, Any}(\"genre\" => \"動物\", \"tag\" => \"音MAD\", \"file\" => \"animal_09.json\"), Dict{String, Any}(\"genre\" => \"動物\", \"tag\" => \"AV(アニマルビデオ)\", \"file\" => \"animal_10.json\"), Dict{String, Any}(\"genre\" => \"動物\", \"tag\" => \"わんわん動画\", \"file\" => \"animal_11.json\"), Dict{String, Any}(\"genre\" => \"動物\", \"tag\" => \"アクアリウム\", \"file\" => \"animal_12.json\"), Dict{String, Any}(\"genre\" => \"動物\", \"tag\" => \"犬\", \"file\" => \"animal_13.json\"), Dict{String, Any}(\"genre\" => \"動物\", \"tag\" => \"柴犬\", \"file\" => \"animal_14.json\"), Dict{String, Any}(\"genre\" => \"動物\", \"tag\" => \"ハムスター\", \"file\" => \"animal_15.json\"), Dict{String, Any}(\"genre\" => \"自然\", \"tag\" => \"VOICEROIDフィッシング\", \"file\" => \"nature_01.json\"), Dict{String, Any}(\"genre\" => \"自然\", \"tag\" => \"カメ五郎\", \"file\" => \"nature_02.json\"), Dict{String, Any}(\"genre\" => \"自然\", \"tag\" => \"ヒカマニ外伝リンク\", \"file\" => \"nature_03.json\"), Dict{String, Any}(\"genre\" => \"自然\", \"tag\" => \"魚釣り\", \"file\" => \"nature_04.json\"), Dict{String, Any}(\"genre\" => \"自然\", \"tag\" => \"音MAD\", \"file\" => \"nature_05.json\"), Dict{String, Any}(\"genre\" => \"自然\", \"tag\" => \"Hikakin_Mania\", \"file\" => \"nature_06.json\"), Dict{String, Any}(\"genre\" => \"自然\", \"tag\" => \"ゆっくり解説\", \"file\" => \"nature_07.json\"), Dict{String, Any}(\"genre\" => \"自然\", \"tag\" => \"自然\", \"file\" => \"nature_08.json\"), Dict{String, Any}(\"genre\" => \"自然\", \"tag\" => \"地震\", \"file\" => \"nature_09.json\"), Dict{String, Any}(\"genre\" => \"自然\", \"tag\" => \"自然音\", \"file\" => \"nature_10.json\"), Dict{String, Any}(\"genre\" => \"自然\", \"tag\" => \"アウトドア\", \"file\" => \"nature_11.json\"), Dict{String, Any}(\"genre\" => \"自然\", \"tag\" => \"狩猟\", \"file\" => \"nature_12.json\"), Dict{String, Any}(\"genre\" => \"自然\", \"tag\" => \"作業用BGM\", \"file\" => \"nature_13.json\"), Dict{String, Any}(\"genre\" => \"自然\", \"tag\" => \"紲星あかり\", \"file\" => \"nature_14.json\"), Dict{String, Any}(\"genre\" => \"料理\", \"tag\" => \"VOICEROIDキッチン\", \"file\" => \"cooking_01.json\"), Dict{String, Any}(\"genre\" => \"料理\", \"tag\" => \"ドカ食い気絶部\", \"file\" => \"cooking_02.json\"), Dict{String, Any}(\"genre\" => \"料理\", \"tag\" => \"第四回スパイス祭\", \"file\" => \"cooking_03.json\"), Dict{String, Any}(\"genre\" => \"料理\", \"tag\" => \"料理\", \"file\" => \"cooking_04.json\"), Dict{String, Any}(\"genre\" => \"料理\", \"tag\" => \"VOICEROIDグルメ\", \"file\" => \"cooking_05.json\"), Dict{String, Any}(\"genre\" => \"料理\", \"tag\" => \"ニコニコ料理部\", \"file\" => \"cooking_06.json\"), Dict{String, Any}(\"genre\" => \"料理\", \"tag\" => \"パンツマン\", \"file\" => \"cooking_07.json\"), Dict{String, Any}(\"genre\" => \"料理\", \"tag\" => \"ボイ酒ロイド\", \"file\" => \"cooking_08.json\"), Dict{String, Any}(\"genre\" => \"料理\", \"tag\" => \"トップバリュ\", \"file\" => \"cooking_09.json\"), Dict{String, Any}(\"genre\" => \"料理\", \"tag\" => \"ずんだもん\", \"file\" => \"cooking_10.json\"), Dict{String, Any}(\"genre\" => \"料理\", \"tag\" => \"VOICEROID劇場\", \"file\" => \"cooking_11.json\"), Dict{String, Any}(\"genre\" => \"料理\", \"tag\" => \"アル中カラカラ\", \"file\" => \"cooking_12.json\"), Dict{String, Any}(\"genre\" => \"料理\", \"tag\" => \"VOICEROIDフィッシング\", \"file\" => \"cooking_13.json\"), Dict{String, Any}(\"genre\" => \"料理\", \"tag\" => \"ソフトウェアトークキッチン\", \"file\" => \"cooking_14.json\"), Dict{String, Any}(\"genre\" => \"料理\", \"tag\" => \"ラーメン\", \"file\" => \"cooking_15.json\"), Dict{String, Any}(\"genre\" => \"旅行・アウトドア\", \"tag\" => \"VOICEROID車載\", \"file\" => \"traveling_outdoor_01.json\"), Dict{String, Any}(\"genre\" => \"旅行・アウトドア\", \"tag\" => \"車載動画\", \"file\" => \"traveling_outdoor_02.json\"), Dict{String, Any}(\"genre\" => \"旅行・アウトドア\", \"tag\" => \"VOICEROIDフィッシング\", \"file\" => \"traveling_outdoor_03.json\"), Dict{String, Any}(\"genre\" => \"旅行・アウトドア\", \"tag\" => \"バイク\", \"file\" => \"traveling_outdoor_04.json\"), Dict{String, Any}(\"genre\" => \"旅行・アウトドア\", \"tag\" => \"自転車\", \"file\" => \"traveling_outdoor_05.json\"), Dict{String, Any}(\"genre\" => \"旅行・アウトドア\", \"tag\" => \"VOICEROID旅行\", \"file\" => \"traveling_outdoor_06.json\"), Dict{String, Any}(\"genre\" => \"旅行・アウトドア\", \"tag\" => \"RTA（リアル登山アタック）\", \"file\" => \"traveling_outdoor_07.json\"), Dict{String, Any}(\"genre\" => \"旅行・アウトドア\", \"tag\" => \"ニコニコ国内旅行\", \"file\" => \"traveling_outdoor_08.json\"), Dict{String, Any}(\"genre\" => \"旅行・アウトドア\", \"tag\" => \"ソフトウェアトーク車載\", \"file\" => \"traveling_outdoor_09.json\"), Dict{String, Any}(\"genre\" => \"旅行・アウトドア\", \"tag\" => \"ロードバイク\", \"file\" => \"traveling_outdoor_10.json\"), Dict{String, Any}(\"genre\" => \"旅行・アウトドア\", \"tag\" => \"魚釣り\", \"file\" => \"traveling_outdoor_11.json\"), Dict{String, Any}(\"genre\" => \"旅行・アウトドア\", \"tag\" => \"シンプル車載動画投稿祭\", \"file\" => \"traveling_outdoor_12.json\"), Dict{String, Any}(\"genre\" => \"旅行・アウトドア\", \"tag\" => \"ずんだもん\", \"file\" => \"traveling_outdoor_13.json\"), Dict{String, Any}(\"genre\" => \"旅行・アウトドア\", \"tag\" => \"クソデカ地名モニュメント投稿祭\", \"file\" => \"traveling_outdoor_14.json\"), Dict{String, Any}(\"genre\" => \"旅行・アウトドア\", \"tag\" => \"旅行\", \"file\" => \"traveling_outdoor_15.json\"), Dict{String, Any}(\"genre\" => \"乗り物\", \"tag\" => \"世界の交通事情\", \"file\" => \"vehicle_01.json\"), Dict{String, Any}(\"genre\" => \"乗り物\", \"tag\" => \"衝撃映像\", \"file\" => \"vehicle_02.json\"), Dict{String, Any}(\"genre\" => \"乗り物\", \"tag\" => \"交通事故\", \"file\" => \"vehicle_03.json\"), Dict{String, Any}(\"genre\" => \"乗り物\", \"tag\" => \"VOICEROID車載\", \"file\" => \"vehicle_04.json\"), Dict{String, Any}(\"genre\" => \"乗り物\", \"tag\" => \"大変な途中下車シリーズ\", \"file\" => \"vehicle_05.json\"), Dict{String, Any}(\"genre\" => \"乗り物\", \"tag\" => \"ドライブレコーダー\", \"file\" => \"vehicle_06.json\"), Dict{String, Any}(\"genre\" => \"乗り物\", \"tag\" => \"バイク\", \"file\" => \"vehicle_07.json\"), Dict{String, Any}(\"genre\" => \"乗り物\", \"tag\" => \"車載動画\", \"file\" => \"vehicle_08.json\"), Dict{String, Any}(\"genre\" => \"乗り物\", \"tag\" => \"自転車\", \"file\" => \"vehicle_09.json\"), Dict{String, Any}(\"genre\" => \"乗り物\", \"tag\" => \"迷列車で行こうシリーズ\", \"file\" => \"vehicle_10.json\"), Dict{String, Any}(\"genre\" => \"乗り物\", \"tag\" => \"ロードバイク\", \"file\" => \"vehicle_11.json\"), Dict{String, Any}(\"genre\" => \"乗り物\", \"tag\" => \"音MAD\", \"file\" => \"vehicle_12.json\"), Dict{String, Any}(\"genre\" => \"乗り物\", \"tag\" => \"日本一周\", \"file\" => \"vehicle_13.json\"), Dict{String, Any}(\"genre\" => \"乗り物\", \"tag\" => \"ソフトウェアトーク車載\", \"file\" => \"vehicle_14.json\"), Dict{String, Any}(\"genre\" => \"乗り物\", \"tag\" => \"鉄道\", \"file\" => \"vehicle_15.json\"), Dict{String, Any}(\"genre\" => \"スポーツ\", \"tag\" => \"サッカー\", \"file\" => \"sports_01.json\"), Dict{String, Any}(\"genre\" => \"スポーツ\", \"tag\" => \"競馬\", \"file\" => \"sports_02.json\"), Dict{String, Any}(\"genre\" => \"スポーツ\", \"tag\" => \"WWE\", \"file\" => \"sports_03.json\"), Dict{String, Any}(\"genre\" => \"スポーツ\", \"tag\" => \"イチロー\", \"file\" => \"sports_04.json\"), Dict{String, Any}(\"genre\" => \"スポーツ\", \"tag\" => \"サッカー日本代表\", \"file\" => \"sports_05.json\"), Dict{String, Any}(\"genre\" => \"スポーツ\", \"tag\" => \"プロ野球\", \"file\" => \"sports_06.json\"), Dict{String, Any}(\"genre\" => \"スポーツ\", \"tag\" => \"音MAD\", \"file\" => \"sports_07.json\"), Dict{String, Any}(\"genre\" => \"スポーツ\", \"tag\" => \"スポーツ\", \"file\" => \"sports_08.json\"), Dict{String, Any}(\"genre\" => \"スポーツ\", \"tag\" => \"F1\", \"file\" => \"sports_09.json\"), Dict{String, Any}(\"genre\" => \"スポーツ\", \"tag\" => \"MLB\", \"file\" => \"sports_10.json\"), Dict{String, Any}(\"genre\" => \"スポーツ\", \"tag\" => \"ドアラ\", \"file\" => \"sports_11.json\"), Dict{String, Any}(\"genre\" => \"スポーツ\", \"tag\" => \"ラグビー\", \"file\" => \"sports_12.json\"), Dict{String, Any}(\"genre\" => \"スポーツ\", \"tag\" => \"横浜DeNAベイスターズ\", \"file\" => \"sports_13.json\"), Dict{String, Any}(\"genre\" => \"スポーツ\", \"tag\" => \"中日ドラゴンズ\", \"file\" => \"sports_14.json\"), Dict{String, Any}(\"genre\" => \"スポーツ\", \"tag\" => \"阪神タイガース\", \"file\" => \"sports_15.json\"), Dict{String, Any}(\"genre\" => \"社会・政治・時事\", \"tag\" => \"ワクチン\", \"file\" => \"society_politics_news_01.json\"), Dict{String, Any}(\"genre\" => \"社会・政治・時事\", \"tag\" => \"新型コロナウイルス\", \"file\" => \"society_politics_news_02.json\"), Dict{String, Any}(\"genre\" => \"社会・政治・時事\", \"tag\" => \"政治\", \"file\" => \"society_politics_news_03.json\"), Dict{String, Any}(\"genre\" => \"社会・政治・時事\", \"tag\" => \"KAZUYA_CHANNEL\", \"file\" => \"society_politics_news_04.json\"), Dict{String, Any}(\"genre\" => \"社会・政治・時事\", \"tag\" => \"井上正康\", \"file\" => \"society_politics_news_05.json\"), Dict{String, Any}(\"genre\" => \"社会・政治・時事\", \"tag\" => \"韓国\", \"file\" => \"society_politics_news_06.json\"), Dict{String, Any}(\"genre\" => \"社会・政治・時事\", \"tag\" => \"ディープステート\", \"file\" => \"society_politics_news_07.json\"), Dict{String, Any}(\"genre\" => \"社会・政治・時事\", \"tag\" => \"超過死亡\", \"file\" => \"society_politics_news_08.json\"), Dict{String, Any}(\"genre\" => \"社会・政治・時事\", \"tag\" => \"ウクライナ\", \"file\" => \"society_politics_news_09.json\"), Dict{String, Any}(\"genre\" => \"社会・政治・時事\", \"tag\" => \"ゆっくり解説\", \"file\" => \"society_politics_news_10.json\"), Dict{String, Any}(\"genre\" => \"社会・政治・時事\", \"tag\" => \"参政党\", \"file\" => \"society_politics_news_11.json\"), Dict{String, Any}(\"genre\" => \"社会・政治・時事\", \"tag\" => \"音MAD\", \"file\" => \"society_politics_news_12.json\"), Dict{String, Any}(\"genre\" => \"社会・政治・時事\", \"tag\" => \"未解決事件\", \"file\" => \"society_politics_news_13.json\"), Dict{String, Any}(\"genre\" => \"社会・政治・時事\", \"tag\" => \"トランプ大統領\", \"file\" => \"society_politics_news_14.json\"), Dict{String, Any}(\"genre\" => \"社会・政治・時事\", \"tag\" => \"ドキュメンタリー\", \"file\" => \"society_politics_news_15.json\"), Dict{String, Any}(\"genre\" => \"技術・工作\", \"tag\" => \"ニコニコ技術部\", \"file\" => \"technology_craft_01.json\"), Dict{String, Any}(\"genre\" => \"技術・工作\", \"tag\" => \"ニコニコ兵器開発局\", \"file\" => \"technology_craft_02.json\"), Dict{String, Any}(\"genre\" => \"技術・工作\", \"tag\" => \"ミニ四駆\", \"file\" => \"technology_craft_03.json\"), Dict{String, Any}(\"genre\" => \"技術・工作\", \"tag\" => \"プラモデル\", \"file\" => \"technology_craft_04.json\"), Dict{String, Any}(\"genre\" => \"技術・工作\", \"tag\" => \"ガンプラ\", \"file\" => \"technology_craft_05.json\"), Dict{String, Any}(\"genre\" => \"技術・工作\", \"tag\" => \"作ってみた\", \"file\" => \"technology_craft_06.json\"), Dict{String, Any}(\"genre\" => \"技術・工作\", \"tag\" => \"ボイロプラモ部\", \"file\" => \"technology_craft_07.json\"), Dict{String, Any}(\"genre\" => \"技術・工作\", \"tag\" => \"ずんだもん\", \"file\" => \"technology_craft_08.json\"), Dict{String, Any}(\"genre\" => \"技術・工作\", \"tag\" => \"ベイブレード\", \"file\" => \"technology_craft_09.json\"), Dict{String, Any}(\"genre\" => \"技術・工作\", \"tag\" => \"電子工作\", \"file\" => \"technology_craft_10.json\"), Dict{String, Any}(\"genre\" => \"技術・工作\", \"tag\" => \"MMD\", \"file\" => \"technology_craft_11.json\"), Dict{String, Any}(\"genre\" => \"技術・工作\", \"tag\" => \"ニコニコ手芸部\", \"file\" => \"technology_craft_12.json\"), Dict{String, Any}(\"genre\" => \"技術・工作\", \"tag\" => \"結月ゆかり\", \"file\" => \"technology_craft_13.json\"), Dict{String, Any}(\"genre\" => \"技術・工作\", \"tag\" => \"ゆっくり解説\", \"file\" => \"technology_craft_14.json\"), Dict{String, Any}(\"genre\" => \"技術・工作\", \"tag\" => \"AviUtl\", \"file\" => \"technology_craft_15.json\"), Dict{String, Any}(\"genre\" => \"解説・講座\", \"tag\" => \"航空事故\", \"file\" => \"commentary_lecture_01.json\"), Dict{String, Any}(\"genre\" => \"解説・講座\", \"tag\" => \"ゆっくり解説\", \"file\" => \"commentary_lecture_02.json\"), Dict{String, Any}(\"genre\" => \"解説・講座\", \"tag\" => \"VOICEROID解説\", \"file\" => \"commentary_lecture_03.json\"), Dict{String, Any}(\"genre\" => \"解説・講座\", \"tag\" => \"ニコニコ動画講座\", \"file\" => \"commentary_lecture_04.json\"), Dict{String, Any}(\"genre\" => \"解説・講座\", \"tag\" => \"SCP解説\", \"file\" => \"commentary_lecture_05.json\"), Dict{String, Any}(\"genre\" => \"解説・講座\", \"tag\" => \"ずんだもん\", \"file\" => \"commentary_lecture_06.json\"), Dict{String, Any}(\"genre\" => \"解説・講座\", \"tag\" => \"トップバリュ\", \"file\" => \"commentary_lecture_07.json\"), Dict{String, Any}(\"genre\" => \"解説・講座\", \"tag\" => \"ドキュメンタリー\", \"file\" => \"commentary_lecture_08.json\"), Dict{String, Any}(\"genre\" => \"解説・講座\", \"tag\" => \"歴史\", \"file\" => \"commentary_lecture_09.json\"), Dict{String, Any}(\"genre\" => \"解説・講座\", \"tag\" => \"VOICEROID劇場\", \"file\" => \"commentary_lecture_10.json\"), Dict{String, Any}(\"genre\" => \"解説・講座\", \"tag\" => \"ずんだもん解説\", \"file\" => \"commentary_lecture_11.json\"), Dict{String, Any}(\"genre\" => \"解説・講座\", \"tag\" => \"軍事\", \"file\" => \"commentary_lecture_12.json\"), Dict{String, Any}(\"genre\" => \"解説・講座\", \"tag\" => \"迷列車で行こうシリーズ\", \"file\" => \"commentary_lecture_13.json\"), Dict{String, Any}(\"genre\" => \"解説・講座\", \"tag\" => \"voicevox解説\", \"file\" => \"commentary_lecture_14.json\"), Dict{String, Any}(\"genre\" => \"解説・講座\", \"tag\" => \"科学\", \"file\" => \"commentary_lecture_15.json\"), Dict{String, Any}(\"genre\" => \"アニメ\", \"tag\" => \"2023年夏アニメ\", \"file\" => \"anime_01.json\"), Dict{String, Any}(\"genre\" => \"アニメ\", \"tag\" => \"アニメ\", \"file\" => \"anime_02.json\"), Dict{String, Any}(\"genre\" => \"アニメ\", \"tag\" => \"呪術廻戦\", \"file\" => \"anime_03.json\"), Dict{String, Any}(\"genre\" => \"アニメ\", \"tag\" => \"ぼっち・ざ・まっど!\", \"file\" => \"anime_04.json\"), Dict{String, Any}(\"genre\" => \"アニメ\", \"tag\" => \"音MAD\", \"file\" => \"anime_05.json\"), Dict{String, Any}(\"genre\" => \"アニメ\", \"tag\" => \"ウマ娘プリティーダービー\", \"file\" => \"anime_06.json\"), Dict{String, Any}(\"genre\" => \"アニメ\", \"tag\" => \"無職転生\", \"file\" => \"anime_07.json\"), Dict{String, Any}(\"genre\" => \"アニメ\", \"tag\" => \"ホモと見るアニメ\", \"file\" => \"anime_08.json\"), Dict{String, Any}(\"genre\" => \"アニメ\", \"tag\" => \"BLEACH\", \"file\" => \"anime_09.json\"), Dict{String, Any}(\"genre\" => \"アニメ\", \"tag\" => \"ぼっち・ざ・ろっく!\", \"file\" => \"anime_10.json\"), Dict{String, Any}(\"genre\" => \"アニメ\", \"tag\" => \"るろうに剣心\", \"file\" => \"anime_11.json\"), Dict{String, Any}(\"genre\" => \"アニメ\", \"tag\" => \"アーマードコア\", \"file\" => \"anime_12.json\"), Dict{String, Any}(\"genre\" => \"アニメ\", \"tag\" => \"【推しの子】\", \"file\" => \"anime_13.json\"), Dict{String, Any}(\"genre\" => \"アニメ\", \"tag\" => \"FGO\", \"file\" => \"anime_14.json\"), Dict{String, Any}(\"genre\" => \"アニメ\", \"tag\" => \"コマンドーアニメ吹き替えリンク\", \"file\" => \"anime_15.json\"), Dict{String, Any}(\"genre\" => \"ゲーム\", \"tag\" => \"biim兄貴リスペクト\", \"file\" => \"game_01.json\"), Dict{String, Any}(\"genre\" => \"ゲーム\", \"tag\" => \"RTA\", \"file\" => \"game_02.json\"), Dict{String, Any}(\"genre\" => \"ゲーム\", \"tag\" => \"VOICEROID実況プレイ\", \"file\" => \"game_03.json\"), Dict{String, Any}(\"genre\" => \"ゲーム\", \"tag\" => \"アーマードコア6\", \"file\" => \"game_04.json\"), Dict{String, Any}(\"genre\" => \"ゲーム\", \"tag\" => \"ゆっくり実況プレイ\", \"file\" => \"game_05.json\"), Dict{String, Any}(\"genre\" => \"ゲーム\", \"tag\" => \"ふにんがす\", \"file\" => \"game_06.json\"), Dict{String, Any}(\"genre\" => \"ゲーム\", \"tag\" => \"ドラゴンボールザブレイカーズ\", \"file\" => \"game_07.json\"), Dict{String, Any}(\"genre\" => \"ゲーム\", \"tag\" => \"遊戯王マスターデュエル\", \"file\" => \"game_08.json\"), Dict{String, Any}(\"genre\" => \"ゲーム\", \"tag\" => \"ブルーアーカイブ\", \"file\" => \"game_09.json\"), Dict{String, Any}(\"genre\" => \"ゲーム\", \"tag\" => \"ゆっくり人狼\", \"file\" => \"game_10.json\"), Dict{String, Any}(\"genre\" => \"ゲーム\", \"tag\" => \"アイドルマスター\", \"file\" => \"game_11.json\"), Dict{String, Any}(\"genre\" => \"ゲーム\", \"tag\" => \"ゲーム\", \"file\" => \"game_12.json\"), Dict{String, Any}(\"genre\" => \"ゲーム\", \"tag\" => \"実況プレイ動画\", \"file\" => \"game_13.json\"), Dict{String, Any}(\"genre\" => \"ゲーム\", \"tag\" => \"TRPG\", \"file\" => \"game_14.json\"), Dict{String, Any}(\"genre\" => \"ゲーム\", \"tag\" => \"東方\", \"file\" => \"game_15.json\"), Dict{String, Any}(\"genre\" => \"その他\", \"tag\" => \"AI拓也\", \"file\" => \"other_01.json\"), Dict{String, Any}(\"genre\" => \"その他\", \"tag\" => \"真夏の夜の淫夢\", \"file\" => \"other_02.json\"), Dict{String, Any}(\"genre\" => \"その他\", \"tag\" => \"淫夢実況シリーズ\", \"file\" => \"other_03.json\"), Dict{String, Any}(\"genre\" => \"その他\", \"tag\" => \"タクヤさん\", \"file\" => \"other_04.json\"), Dict{String, Any}(\"genre\" => \"その他\", \"tag\" => \"例のアレ\", \"file\" => \"other_05.json\"), Dict{String, Any}(\"genre\" => \"その他\", \"tag\" => \"ホモと見るシリーズ\", \"file\" => \"other_06.json\"), Dict{String, Any}(\"genre\" => \"その他\", \"tag\" => \"たぬき(ウマ娘)\", \"file\" => \"other_07.json\"), Dict{String, Any}(\"genre\" => \"その他\", \"tag\" => \"カツドンチャンネル\", \"file\" => \"other_08.json\"), Dict{String, Any}(\"genre\" => \"その他\", \"tag\" => \"ホラー淫夢\", \"file\" => \"other_09.json\"), Dict{String, Any}(\"genre\" => \"その他\", \"tag\" => \"田所浩治(佐倉市)\", \"file\" => \"other_10.json\"), Dict{String, Any}(\"genre\" => \"その他\", \"tag\" => \"ホモと見るアニメ\", \"file\" => \"other_11.json\"), Dict{String, Any}(\"genre\" => \"その他\", \"tag\" => \"ANNYUI姉貴\", \"file\" => \"other_12.json\"), Dict{String, Any}(\"genre\" => \"その他\", \"tag\" => \"クッキー☆\", \"file\" => \"other_13.json\"), Dict{String, Any}(\"genre\" => \"その他\", \"tag\" => \"その他\", \"file\" => \"other_14.json\"), Dict{String, Any}(\"genre\" => \"その他\", \"tag\" => \"日記\", \"file\" => \"other_15.json\"), Dict{String, Any}(\"genre\" => \"R-18\", \"tag\" => \"R-18\", \"file\" => \"r18_01.json\"), Dict{String, Any}(\"genre\" => \"R-18\", \"tag\" => \"イメージビデオ\", \"file\" => \"r18_02.json\"), Dict{String, Any}(\"genre\" => \"R-18\", \"tag\" => \"ヌキドル\", \"file\" => \"r18_03.json\"), Dict{String, Any}(\"genre\" => \"R-18\", \"tag\" => \"グラビアアイドル\", \"file\" => \"r18_04.json\"), Dict{String, Any}(\"genre\" => \"R-18\", \"tag\" => \"巨乳\", \"file\" => \"r18_05.json\"), Dict{String, Any}(\"genre\" => \"R-18\", \"tag\" => \"パンチラ\", \"file\" => \"r18_06.json\"), Dict{String, Any}(\"genre\" => \"R-18\", \"tag\" => \"疑似セックス\", \"file\" => \"r18_07.json\"), Dict{String, Any}(\"genre\" => \"R-18\", \"tag\" => \"地上に降りた天使達\", \"file\" => \"r18_08.json\"), Dict{String, Any}(\"genre\" => \"R-18\", \"tag\" => \"爆乳\", \"file\" => \"r18_09.json\"), Dict{String, Any}(\"genre\" => \"R-18\", \"tag\" => \"下着\", \"file\" => \"r18_10.json\"), Dict{String, Any}(\"genre\" => \"R-18\", \"tag\" => \"星名美津紀\", \"file\" => \"r18_11.json\"), Dict{String, Any}(\"genre\" => \"R-18\", \"tag\" => \"パンスト\", \"file\" => \"r18_12.json\"), Dict{String, Any}(\"genre\" => \"R-18\", \"tag\" => \"尻\", \"file\" => \"r18_13.json\"), Dict{String, Any}(\"genre\" => \"R-18\", \"tag\" => \"ボイロAV\", \"file\" => \"r18_14.json\"), Dict{String, Any}(\"genre\" => \"R-18\", \"tag\" => \"マンスジ\", \"file\" => \"r18_15.json\")]"
     ]
    },
    {
     "name": "stdout",
     "output_type": "stream",
     "text": [
      "\n"
     ]
    },
    {
     "data": {
      "text/plain": [
       "\"https:__dcdn.cdn.nimg.jp_nicovideo_old-ranking_daily_2023-09-23_game_04.json\""
      ]
     },
     "metadata": {},
     "output_type": "display_data"
    }
   ],
   "source": [
    "using HTTP, JSON, CSV, TableOperations, DataFrames # ライブラリをインポート\n",
    "\n",
    "\n",
    "function get_and_write(url)\n",
    "    response = HTTP.get(url)\n",
    "    response.status != 200 && (return error(\"Error: $(response.status)\"))\n",
    "\n",
    "    file_name = replace(url, \"/\" => \"_\")\n",
    "    write(file_name, String(response.body))\n",
    "    return file_name\n",
    "end\n",
    "\n",
    "\"\"\"\n",
    "ニコニコ動画のデータを収集しファイルに保存する関数\n",
    "\n",
    "参考: https://dwango.github.io/niconico/genre_ranking/ranking_log\n",
    "\"\"\"\n",
    "function collect_nico_data(ranking_type, date, file_type, endpoint=\"https://dcdn.cdn.nimg.jp/nicovideo/old-ranking\")\n",
    "    url = \"$(endpoint)/$(ranking_type)/$(date)/$(file_type)\"\n",
    "    return get_and_write(url)\n",
    "end\n",
    "\n",
    "\"\"\"\n",
    "ファイル名リストからタグを検索し、ファイル名を返す関数\n",
    "\"\"\"\n",
    "function search_tag(tag, file_name)\n",
    "    file_data_list = JSON.parsefile(file_name)\n",
    "    for file_data ∈ file_data_list\n",
    "        file_data[\"tag\"] == tag && (return file_data[\"file\"])\n",
    "    end\n",
    "    return error(\"Error: $(tag) is not found\")\n",
    "end\n",
    "\n",
    "file_name_list_name = collect_nico_data(\"daily\", \"2023-09-23\", \"file_name_list.json\")\n",
    "ac6_file_name       = search_tag(\"アーマードコア6\", file_name_list_name)\n",
    "ac6_result_file     = collect_nico_data(\"daily\", \"2023-09-23\", ac6_file_name)"
   ]
  },
  {
   "cell_type": "markdown",
   "metadata": {},
   "source": [
    "## 形態素解析の実験\n"
   ]
  },
  {
   "cell_type": "code",
   "execution_count": 18,
   "metadata": {},
   "outputs": [
    {
     "name": "stdout",
     "output_type": "stream",
     "text": [
      "[\n",
      "  (\"すもも\", \"名詞,一般,*,*,*,*,すもも,スモモ,スモモ\"),\n",
      "  (\"も\", \"助詞,係助詞,*,*,*,*,も,モ,モ\"),\n",
      "  (\"もも\", \"名詞,一般,*,*,*,*,もも,モモ,モモ\"),\n",
      "  (\"も\", \"助詞,係助詞,*,*,*,*,も,モ,モ\"),\n",
      "  (\"もも\", \"名詞,一般,*,*,*,*,もも,モモ,モモ\"),\n",
      "  (\"の\", \"助詞,連体化,*,*,*,*,の,ノ,ノ\"),\n",
      "  (\"うち\", \"名詞,非自立,副詞可能,*,*,*,うち,ウチ,ウチ\"),\n",
      "]\n"
     ]
    }
   ],
   "source": [
    "using Awabi, PrettyPrint\n",
    "\n",
    "text      = \"すもももももももものうち\"\n",
    "tokenizer = Tokenizer(Dict(\"dicdir\"=>\"/home/linuxbrew/.linuxbrew/lib/mecab/dic/ipadic\"))\n",
    "tokens    = tokenize(tokenizer, text)\n",
    "\n",
    "pprintln(tokens)\n"
   ]
  },
  {
   "cell_type": "code",
   "execution_count": 5,
   "metadata": {},
   "outputs": [],
   "source": []
  },
  {
   "cell_type": "code",
   "execution_count": null,
   "metadata": {},
   "outputs": [],
   "source": []
  },
  {
   "cell_type": "code",
   "execution_count": null,
   "metadata": {},
   "outputs": [],
   "source": []
  },
  {
   "cell_type": "code",
   "execution_count": null,
   "metadata": {},
   "outputs": [],
   "source": []
  },
  {
   "cell_type": "code",
   "execution_count": null,
   "metadata": {},
   "outputs": [],
   "source": []
  },
  {
   "cell_type": "code",
   "execution_count": null,
   "metadata": {},
   "outputs": [],
   "source": []
  }
 ],
 "metadata": {
  "kernelspec": {
   "display_name": "Julia 1.9.3",
   "language": "julia",
   "name": "julia-1.9"
  },
  "language_info": {
   "file_extension": ".jl",
   "mimetype": "application/julia",
   "name": "julia",
   "version": "1.9.3"
  },
  "orig_nbformat": 4
 },
 "nbformat": 4,
 "nbformat_minor": 2
}
