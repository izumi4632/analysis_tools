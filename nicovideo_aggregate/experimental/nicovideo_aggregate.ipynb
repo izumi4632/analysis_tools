{
 "cells": [
  {
   "cell_type": "markdown",
   "metadata": {},
   "source": [
    "# 概要\n",
    "\n",
    "Juliaとawabi.jlによる形態素解の実験"
   ]
  },
  {
   "cell_type": "markdown",
   "metadata": {},
   "source": [
    "## データの取得"
   ]
  },
  {
   "cell_type": "code",
   "execution_count": 27,
   "metadata": {},
   "outputs": [
    {
     "data": {
      "text/plain": [
       "aggregate_by_tag"
      ]
     },
     "metadata": {},
     "output_type": "display_data"
    }
   ],
   "source": [
    "using HTTP, JSON, CSV, TableOperations, DataFrames, LightXML, Plots\n",
    "\n",
    "\"\"\"\n",
    "HTTPでデータを取得する関数\n",
    "\"\"\"\n",
    "function api_get(url)\n",
    "  count = 0\n",
    "  while count < 10\n",
    "    try\n",
    "      response = HTTP.get(url)\n",
    "      response.status == 200 && (\n",
    "        return String(response.body);\n",
    "      )\n",
    "    finally\n",
    "      count += 1\n",
    "    end\n",
    "  end\n",
    "  return error(\"Error: bad url\")\n",
    "end\n",
    "\n",
    "\"\"\"\n",
    "ニコニコ動画のデータを収集しファイルに保存する関数\n",
    "\n",
    "参考: https://dwango.github.io/niconico/genre_ranking/ranking_log\n",
    "\"\"\"\n",
    "function collect_nico_data(ranking_type, date, file_type, endpoint=\"https://dcdn.cdn.nimg.jp/nicovideo/old-ranking\")\n",
    "  url       = \"$(endpoint)/$(ranking_type)/$(date)/$(file_type)\"\n",
    "  file_name = replace(url, \"/\" => \"_\")\n",
    "  write(file_name, api_get(url))\n",
    "  return file_name\n",
    "end\n",
    "\n",
    "\"\"\"\n",
    "ファイル名リストからタグを検索し、ファイル名を返す関数\n",
    "\"\"\"\n",
    "function search_tag(tag, file_name)\n",
    "  file_data_list = JSON.parsefile(file_name)\n",
    "  for file_data ∈ file_data_list\n",
    "    file_data[\"tag\"] == tag && (\n",
    "      return file_data[\"file\"]\n",
    "    )\n",
    "  end\n",
    "  return error(\"Error: $(tag) is not found\")\n",
    "end\n",
    "\n",
    "\"\"\"\n",
    "ファイル名からデータを集計し、タグごとのデータを返す関数\n",
    "\"\"\"\n",
    "function aggregate_by_tag(ac6_result_file)\n",
    "\n",
    "  function get_tags_by_id(id)\n",
    "    xml_element = \"https://ext.nicovideo.jp/api/getthumbinfo/$(id)\" |> api_get |> parse_string |> root\n",
    "    for class ∈ [\"thumb\", \"tags\"]\n",
    "      xml_element = find_element(xml_element, class)\n",
    "      isnothing(xml_element) && (\n",
    "        #=\n",
    "        ここに入るときは削除されてるかも\n",
    "        <nicovideo_thumb_response status=\"fail\">\n",
    "          <error>\n",
    "            <code>DELETED</code>\n",
    "            <description>deleted</description>\n",
    "          </error>\n",
    "        </nicovideo_thumb_response>\n",
    "        =#\n",
    "        return [];\n",
    "      )\n",
    "    end\n",
    "    elements = [content(e) for e ∈ get_elements_by_tagname(xml_element, \"tag\")]\n",
    "  end\n",
    "\n",
    "  tag_data         = Dict{String,Dict{String,Int64}}()\n",
    "  tag_data_by_view = Dict{String,Dict{String,Float64}}()\n",
    "  ac6_results      = JSON.parsefile(ac6_result_file)\n",
    "  AGGREGATE_COLS   = [\"view\", \"like\", \"comment\", \"mylist\"]\n",
    "  tag_unique_set   = Set{String}()\n",
    "  for ac6_result ∈ ac6_results\n",
    "    tags = get_tags_by_id(ac6_result[\"id\"])\n",
    "    for tag ∈ tags\n",
    "      push!(tag_unique_set, tag)\n",
    "      haskey(tag_data, tag) || (\n",
    "        tag_data[tag]         = Dict(col => 0 for col ∈ AGGREGATE_COLS);\n",
    "        tag_data_by_view[tag] = Dict(col => 0 for col ∈ AGGREGATE_COLS);\n",
    "      )\n",
    "      for col ∈ AGGREGATE_COLS\n",
    "        tag_data[tag][col] += ac6_result[\"count\"][col]\n",
    "      end\n",
    "    end\n",
    "  end\n",
    "  for tag ∈ tag_unique_set\n",
    "    for col ∈ [\"like\", \"comment\", \"mylist\"]\n",
    "      tag_data_by_view[tag][col] = tag_data[tag][col] * 1000 / tag_data[tag][\"view\"]\n",
    "    end\n",
    "  end\n",
    "  write(\"aggregate_$(ac6_result_file)\", JSON.json(tag_data))\n",
    "  write(\"aggregate_by_view_$(ac6_result_file)\", JSON.json(tag_data_by_view))\n",
    "  return tag_data_by_view\n",
    "end"
   ]
  },
  {
   "cell_type": "code",
   "execution_count": 28,
   "metadata": {},
   "outputs": [
    {
     "data": {
      "text/plain": [
       "Dict{String, Dict{String, Float64}} with 497 entries:\n",
       "  \"acvi対戦動画\"           => Dict(\"view\"=>0.0, \"like\"=>0.0227683, \"comment\"=>0…\n",
       "  \"集団幻覚\"               => Dict(\"view\"=>0.0, \"like\"=>0.0256461, \"comment\"=>0…\n",
       "  \"ストライダー\"           => Dict(\"view\"=>0.0, \"like\"=>0.0488431, \"comment\"=>0…\n",
       "  \"seirenvoice\"            => Dict(\"view\"=>0.0, \"like\"=>0.0527236, \"comment\"=>0…\n",
       "  \"坊やよいこだねんねしな\" => Dict(\"view\"=>0.0, \"like\"=>0.0618375, \"comment\"=>0…\n",
       "  \"人格の重量過多\"         => Dict(\"view\"=>0.0, \"like\"=>0.0216482, \"comment\"=>0…\n",
       "  \"Voiceroid実況プレイ\"    => Dict(\"view\"=>0.0, \"like\"=>0.179487, \"comment\"=>0.…\n",
       "  \"玉入れ\"                 => Dict(\"view\"=>0.0, \"like\"=>0.0164542, \"comment\"=>0…\n",
       "  \"初投稿動画\"             => Dict(\"view\"=>0.0, \"like\"=>0.102041, \"comment\"=>0.…\n",
       "  \"cevio_ai\"               => Dict(\"view\"=>0.0, \"like\"=>0.181818, \"comment\"=>0.…\n",
       "  \"大日本帝国版\"           => Dict(\"view\"=>0.0, \"like\"=>0.0728155, \"comment\"=>0…\n",
       "  \"谷村ブラックタンク\"     => Dict(\"view\"=>0.0, \"like\"=>0.0164542, \"comment\"=>0…\n",
       "  \"様子のおかしい人です\"   => Dict(\"view\"=>0.0, \"like\"=>0.0275744, \"comment\"=>0…\n",
       "  \"彩澄りりせ\"             => Dict(\"view\"=>0.0, \"like\"=>0.0408786, \"comment\"=>0…\n",
       "  \"パイルバンカー\"         => Dict(\"view\"=>0.0, \"like\"=>0.0322411, \"comment\"=>0…\n",
       "  \"渋谷の花火師\"           => Dict(\"view\"=>0.0, \"like\"=>0.0153227, \"comment\"=>0…\n",
       "  \"出張版みんなのあしあと\" => Dict(\"view\"=>0.0, \"like\"=>0.0315386, \"comment\"=>0…\n",
       "  \"狂気の産物\"             => Dict(\"view\"=>0.0, \"like\"=>0.0286301, \"comment\"=>0…\n",
       "  \"サムネバイバイ\"         => Dict(\"view\"=>0.0, \"like\"=>0.037386, \"comment\"=>0.…\n",
       "  ⋮                        => ⋮"
      ]
     },
     "metadata": {},
     "output_type": "display_data"
    }
   ],
   "source": [
    "file_name_list_name = collect_nico_data(\"daily\", \"2023-09-23\", \"file_name_list.json\")\n",
    "ac6_file_name       = search_tag(\"アーマードコア6\", file_name_list_name)\n",
    "ac6_result_file     = collect_nico_data(\"daily\", \"2023-09-23\", ac6_file_name)\n",
    "tag_data_by_view    = aggregate_by_tag(ac6_result_file)"
   ]
  },
  {
   "cell_type": "code",
   "execution_count": 31,
   "metadata": {},
   "outputs": [
    {
     "data": {
      "text/plain": [
       "\"/home/izumi/git/analysis_tools/nicovideo_aggregate/experimental/ac6_reactions_1k_view.svg\""
      ]
     },
     "metadata": {},
     "output_type": "display_data"
    }
   ],
   "source": [
    "\"\"\"\n",
    "視聴回数あたりのいいね数、コメント数、マイリスト数を計算し、視覚化する\n",
    "data_type: \"julia_dict\" or \"json_file\"\n",
    "\"\"\"\n",
    "function plot_data_by_view(tag_data_by_view, data_type = \"julia_dict\")\n",
    "\n",
    "  data_type == \"json_file\" && (\n",
    "    cd(@__DIR__());\n",
    "    tag_data_by_view = JSON.parsefile(tag_data_by_view);\n",
    "  )\n",
    "\n",
    "  # 日本語\n",
    "  gr(fontfamily=\"JuliaMono\")\n",
    "\n",
    "  # タイトルとリアクション割合の棒グラフを作成する\n",
    "  df         = DataFrame()\n",
    "  df.tag     = collect(keys(tag_data_by_view))\n",
    "  df.mylist  = [tag_data_by_view[t][\"mylist\"]  for t in df.tag]\n",
    "  df.like    = [tag_data_by_view[t][\"like\"]    for t in df.tag]\n",
    "  df.comment = [tag_data_by_view[t][\"comment\"] for t in df.tag]\n",
    "  df         = sort(df, :mylist, rev=false)\n",
    "  df         = df[end-10:end, :]\n",
    "\n",
    "  # 棒グラフを作成する\n",
    "  bar(df.tag, df.mylist, label=[\"マイリスト\"])\n",
    "  title!(\"アーマードコア6 タグ毎に集計した（マイリスト数/視聴回数）のランキング\")\n",
    "  plot!(size=(2400, 1800))\n",
    "  savefig(\"ac6_reactions_1k_view.svg\")\n",
    "end\n",
    "# plot_data_by_view(tag_data_by_view)\n",
    "plot_data_by_view(\"aggregate_by_view_https:__dcdn.cdn.nimg.jp_nicovideo_old-ranking_daily_2023-09-23_game_04.json\", \"json_file\")\n",
    "\n",
    "# plot_data_by_view(\"aggregate_https:__dcdn.cdn.nimg.jp_nicovideo_old-ranking_daily_2023-09-23_game_04.json\", \"json_file\")"
   ]
  },
  {
   "cell_type": "code",
   "execution_count": 37,
   "metadata": {},
   "outputs": [
    {
     "data": {
      "text/plain": [
       "\"utf8\""
      ]
     },
     "metadata": {},
     "output_type": "display_data"
    }
   ],
   "source": [
    "ENV[\"GKS_ENCODING\"] = \"utf8\"\n"
   ]
  },
  {
   "cell_type": "code",
   "execution_count": 13,
   "metadata": {},
   "outputs": [
    {
     "data": {
      "text/plain": [
       "\"/home/izumi/git/analysis_tools/nicovideo_aggregate/experimental\""
      ]
     },
     "metadata": {},
     "output_type": "display_data"
    }
   ],
   "source": [
    "pwd()\n"
   ]
  },
  {
   "cell_type": "code",
   "execution_count": 5,
   "metadata": {},
   "outputs": [
    {
     "name": "stdout",
     "output_type": "stream",
     "text": [
      "\u001b[32m\u001b[1mStatus\u001b[22m\u001b[39m `~/git/analysis_tools/Project.toml`\n",
      "  \u001b[90m[b89ecf66] \u001b[39mAwabi v0.1.3\n",
      "  \u001b[90m[336ed68f] \u001b[39mCSV v0.10.11\n",
      "  \u001b[90m[a93c6f00] \u001b[39mDataFrames v1.6.1\n",
      "\u001b[32m⌃\u001b[39m \u001b[90m[c43c736e] \u001b[39mGenie v5.2.2\n",
      "\u001b[33m⌅\u001b[39m \u001b[90m[cd3eb016] \u001b[39mHTTP v0.9.17\n",
      "  \u001b[90m[7073ff75] \u001b[39mIJulia v1.24.2\n",
      "  \u001b[90m[682c06a0] \u001b[39mJSON v0.21.4\n",
      "  \u001b[90m[9c8b4983] \u001b[39mLightXML v0.9.0\n",
      "  \u001b[90m[58dd65bb] \u001b[39mPlotly v0.4.1\n",
      "  \u001b[90m[91a5bcdd] \u001b[39mPlots v1.39.0\n",
      "  \u001b[90m[8162dcfd] \u001b[39mPrettyPrint v0.2.0\n",
      "  \u001b[90m[ab02a1b2] \u001b[39mTableOperations v1.2.0\n",
      "\u001b[36m\u001b[1mInfo\u001b[22m\u001b[39m Packages marked with \u001b[32m⌃\u001b[39m and \u001b[33m⌅\u001b[39m have new versions available, but those with \u001b[33m⌅\u001b[39m are restricted by compatibility constraints from upgrading. To see why use `status --outdated`\n"
     ]
    }
   ],
   "source": [
    "\n",
    "using Pkg\n",
    "Pkg.status()"
   ]
  },
  {
   "cell_type": "code",
   "execution_count": 2,
   "metadata": {},
   "outputs": [
    {
     "data": {
      "text/plain": [
       "\"/home/izumi/git/analysis_tools\""
      ]
     },
     "metadata": {},
     "output_type": "display_data"
    }
   ],
   "source": [
    "cd(\"../..\")\n",
    "pwd()\n"
   ]
  }
 ],
 "metadata": {
  "kernelspec": {
   "display_name": "Julia 1.9.3",
   "language": "julia",
   "name": "julia-1.9"
  },
  "language_info": {
   "file_extension": ".jl",
   "mimetype": "application/julia",
   "name": "julia",
   "version": "1.9.3"
  },
  "orig_nbformat": 4
 },
 "nbformat": 4,
 "nbformat_minor": 2
}
